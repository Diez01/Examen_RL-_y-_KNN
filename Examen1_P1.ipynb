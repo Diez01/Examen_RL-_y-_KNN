{
 "cells": [
  {
   "cell_type": "markdown",
   "metadata": {},
   "source": [
    "1er Examen\n",
    "\n",
    "Parte 1. Usando el dataset de iris realiza lo siguiente:\n",
    "\n",
    "Significado de columnas\n",
    "\n",
    "- CRIM: Tasa de criminalidad per cápita por ciudad\n",
    "- ZN: Proporción de terrenos residenciales zonificados para lotes de más de 25,000 pies cuadrados.\n",
    "- INDUS: Proporción de acres de negocios no minoristas por ciudad\n",
    "- CHAS: Variable ficticia del río Charles (= 1 si el lote colinda con el río; 0 en caso contrario)\n",
    "- NOX: Concentración de óxidos de nitrógeno (partes por 10 millones)\n",
    "- RM: Número promedio de habitaciones por vivienda\n",
    "- AGE: Proporción de unidades ocupadas por sus propietarios construidas antes de 1940\n",
    "- DIS: Distancias ponderadas a cinco centros de empleo en Boston\n",
    "- RAD: Índice de accesibilidad a carreteras radiales\n",
    "- TAX: Tasa de impuesto a la propiedad de valor completo por $10,000\n",
    "- PTRATIO: Relación alumno-maestro por ciudad\n",
    "- B: 1000(Bk - 0.63)^2 donde Bk es la proporción de personas de raza negra por ciudad\n",
    "- LSTAT: % de estado social más bajo de la población\n",
    "- MEDV: Valor mediano de las viviendas ocupadas por sus propietarios en miles de dólares."
   ]
  },
  {
   "cell_type": "code",
   "execution_count": null,
   "metadata": {},
   "outputs": [],
   "source": [
    "import ia_misc as ia\n",
    "import numpy as np\n",
    "import pandas as pd\n",
    "import plotly.express as px\n",
    "#cambiar la ruta a la ubicacion del archivo\n",
    "dataset = pd.read_csv(r\"C:\\Users\\diezs\\Documents\\clases\\inteligencia artificial\\Examen_RL-_y-_KNN\\unidades_boston.csv\")\n",
    "dataset"
   ]
  },
  {
   "cell_type": "markdown",
   "metadata": {},
   "source": [
    "a. Analiza el índice de correlación para cada atributo y determina cuál es tu variable independiente y variable dependiente que mejor te pueden ayudar a predecir usando regresión lineal.\n",
    "\n",
    "Escribe aquí tus variables dependiente e independientes a usar:\n",
    "\n",
    "Variable dependiente: MEDV\n",
    "\n",
    "Variable independiente: LSTAT\n",
    "\n"
   ]
  },
  {
   "cell_type": "code",
   "execution_count": 16,
   "metadata": {},
   "outputs": [
    {
     "name": "stdout",
     "output_type": "stream",
     "text": [
      "             CRIM        ZN     INDUS      CHAS       NOX        RM       AGE  \\\n",
      "CRIM     1.000000 -0.200469  0.406583 -0.055892  0.420972 -0.219247  0.349865   \n",
      "ZN      -0.200469  1.000000 -0.533828 -0.042697 -0.516604  0.311991 -0.530491   \n",
      "INDUS    0.406583 -0.533828  1.000000  0.062938  0.763651 -0.391676  0.568578   \n",
      "CHAS    -0.055892 -0.042697  0.062938  1.000000  0.091203  0.091251  0.070346   \n",
      "NOX      0.420972 -0.516604  0.763651  0.091203  1.000000 -0.302188  0.597615   \n",
      "RM      -0.219247  0.311991 -0.391676  0.091251 -0.302188  1.000000 -0.201037   \n",
      "AGE      0.349865 -0.530491  0.568578  0.070346  0.597615 -0.201037  1.000000   \n",
      "DIS     -0.385313  0.657251 -0.684099 -0.092312 -0.718373  0.190331 -0.732326   \n",
      "RAD      0.098589 -0.115457  0.255764  0.032823  0.396813 -0.120117 -0.180195   \n",
      "TAX      0.566832 -0.288445  0.657393 -0.043268  0.570443 -0.260542  0.546028   \n",
      "PTRATIO  0.000964 -0.079120  0.163641  0.043821  0.280903 -0.103541 -0.239179   \n",
      "B       -0.349663  0.182359 -0.380834  0.027176 -0.448366  0.147854 -0.130979   \n",
      "LSTAT    0.456759 -0.416235  0.608654 -0.069162  0.584514 -0.611448  0.554893   \n",
      "MEDV    -0.290165  0.214317 -0.236685  0.153491 -0.090781  0.434295 -0.444910   \n",
      "\n",
      "              DIS       RAD       TAX   PTRATIO         B     LSTAT      MEDV  \n",
      "CRIM    -0.385313  0.098589  0.566832  0.000964 -0.349663  0.456759 -0.290165  \n",
      "ZN       0.657251 -0.115457 -0.288445 -0.079120  0.182359 -0.416235  0.214317  \n",
      "INDUS   -0.684099  0.255764  0.657393  0.163641 -0.380834  0.608654 -0.236685  \n",
      "CHAS    -0.092312  0.032823 -0.043268  0.043821  0.027176 -0.069162  0.153491  \n",
      "NOX     -0.718373  0.396813  0.570443  0.280903 -0.448366  0.584514 -0.090781  \n",
      "RM       0.190331 -0.120117 -0.260542 -0.103541  0.147854 -0.611448  0.434295  \n",
      "AGE     -0.732326 -0.180195  0.546028 -0.239179 -0.130979  0.554893 -0.444910  \n",
      "DIS      1.000000 -0.029630 -0.536387  0.046874  0.237881 -0.485688  0.219826  \n",
      "RAD     -0.029630  1.000000 -0.095530  0.940775 -0.471560  0.179514  0.639117  \n",
      "TAX     -0.536387 -0.095530  1.000000 -0.224335 -0.288119  0.505768 -0.507895  \n",
      "PTRATIO  0.046874  0.940775 -0.224335  1.000000 -0.393339  0.114926  0.646823  \n",
      "B        0.237881 -0.471560 -0.288119 -0.393339  1.000000 -0.369969 -0.065799  \n",
      "LSTAT   -0.485688  0.179514  0.505768  0.114926 -0.369969  1.000000 -0.459734  \n",
      "MEDV     0.219826  0.639117 -0.507895  0.646823 -0.065799 -0.459734  1.000000  \n"
     ]
    }
   ],
   "source": [
    "# Escribir código aquí\n",
    "# Calcula la matriz de correlación\n",
    "correlation_matrix = dataset.corr()\n",
    "\n",
    "# Imprime la matriz de correlación\n",
    "print(correlation_matrix)"
   ]
  },
  {
   "cell_type": "markdown",
   "metadata": {},
   "source": [
    "b. Usando ia_misc, divide tus datos entre datos de entrenamiento y datos de predicción. La función de ayuda para esto sería trainPredSeparationLR."
   ]
  },
  {
   "cell_type": "code",
   "execution_count": 46,
   "metadata": {},
   "outputs": [],
   "source": [
    "# Escribir código aquí\n",
    "# Define tus variables dependiente e independiente\n",
    "dep_var = 'MEDV'\n",
    "ind_var = 'LSTAT'"
   ]
  },
  {
   "cell_type": "code",
   "execution_count": 47,
   "metadata": {},
   "outputs": [],
   "source": [
    "# Elige una columna y un valor de filtro que exista en todos los registros\n",
    "filter_column = 'CHAS'  # Usa la columna 'CHAS'\n",
    "filter_value = 0  # Usa el valor 0, que es común en la columna 'CHAS'"
   ]
  },
  {
   "cell_type": "code",
   "execution_count": 48,
   "metadata": {},
   "outputs": [],
   "source": [
    "# Usa la función para dividir tus datos\n",
    "x_train, y_train, x_pred, y_pred = ia.trainPredSeparationLR(dataset, filter_column, filter_value, ind_var, dep_var)\n"
   ]
  },
  {
   "cell_type": "code",
   "execution_count": 52,
   "metadata": {},
   "outputs": [
    {
     "name": "stdout",
     "output_type": "stream",
     "text": [
      "Valores de entrenamiento para x (LSTAT): [12.14  7.56 12.92 13.35  9.51 12.4   5.28  7.37 23.24 16.74  7.79  7.39\n",
      " 11.34 14.    3.76 14.19 10.27 12.01  3.81  7.51 17.21 13.27 11.97  8.23\n",
      "  4.74 16.21  8.1   8.65 14.09 18.03 10.3  17.6   9.25  2.88 14.36 15.37\n",
      "  9.09  6.65 12.13  3.16  5.49 18.35  8.51 26.45  7.19 10.53  9.68 21.22\n",
      " 18.07 28.28  2.98  7.6   8.61 34.77 14.8   4.59  3.33  7.01  8.93 30.63\n",
      "  9.14 15.6   5.99 11.28 16.2  21.45  4.82 18.05 12.33  3.95  9.52 28.32\n",
      "  3.95 11.66 34.37 17.73  8.16 14.81  5.68  5.77  3.57  5.03 12.67 17.31\n",
      " 17.44  8.05  4.56 12.26  4.97  9.53 17.1   5.25 10.74  7.74  5.1   7.83\n",
      "  9.29 14.52  3.11 19.15  9.5  20.85 24.08 14.1   3.53 20.31 18.72  7.44\n",
      " 16.42 10.15 16.47 25.68 16.44 14.43  3.56  9.38 13.   13.15 14.81  6.93\n",
      " 19.6  13.15  2.87 10.59  8.94  5.19 24.39  7.22 21.08 13.34 17.93  4.59\n",
      " 14.76 26.64 20.34  6.62  7.79 16.59  5.81 17.16  5.7   9.74 15.7   6.27\n",
      " 18.46  6.72 15.94  7.67 10.58  4.38 19.37 14.1   5.52  9.22 23.27 12.86\n",
      " 17.64  6.68 18.06 10.4   8.67 23.69 30.81  6.87 10.11  5.04 10.87 13.61\n",
      " 13.22 21.24 11.5  19.78 14.27 24.3  18.46  9.81 12.6  30.62 36.98  3.59\n",
      " 16.94  5.98 10.13 13.33 27.26  2.94 26.77  7.9   5.98  6.86  4.21 17.12\n",
      " 22.98 20.45  9.64  5.08  8.1   4.61 10.29 17.79  6.73  6.57 10.16 14.1\n",
      " 16.35  9.88  7.7   5.57 21.02  7.53  8.43 25.41 10.26 29.55 21.14 14.33\n",
      " 14.15 23.29 18.06  4.81 10.19  7.12  9.42 10.88 11.98 10.24 13.8  24.16\n",
      " 10.45 18.13  8.01  7.6  22.88 12.03 12.67 18.8  12.27 11.22 20.62 19.88\n",
      " 12.03  8.2   7.85  6.36  9.47 15.17  4.54 13.59 11.25  6.56 12.43  8.58\n",
      "  8.81 13.    5.49  5.21  5.68 17.19  3.26 18.13 21.78 27.71  7.26  4.32\n",
      " 13.11 15.17  6.19  4.84  5.91 12.64 29.97 18.68 20.08 25.79 13.09  9.62\n",
      "  7.43  7.44 11.38  7.2   9.55 15.84 12.73 13.83 10.56 15.1   4.73 20.32\n",
      " 14.98 24.1   6.72  4.86 17.58 15.69 19.31 22.74 22.6  13.98 10.11  9.04\n",
      "  6.15  9.67  4.45 11.65  9.97  8.47  3.92  5.39 23.3  15.03 14.37  9.45\n",
      "  7.88 18.76 15.6  23.79  2.97 18.34 11.45  7.73 10.21 23.98  6.78 12.04\n",
      "  4.85 14.44  5.33 16.51 13.44]\n",
      "Valores de entrenamiento para y (MEDV): [ 23.8  39.8  21.2  20.1  24.8  20.1  25.   23.3  13.9  17.8  36.   27.1\n",
      "  21.4  21.9  45.4  19.9  20.8  21.8  48.5  22.9  10.4  18.9  20.   22.\n",
      "  29.   18.8  36.5  16.5  20.4  14.6  19.2  23.1  20.9  50.   23.2  20.4\n",
      "  19.8  28.4  27.9  43.5  24.1  13.1  20.6   8.7  29.1  17.5  18.9  17.2\n",
      "  13.6  10.5  32.   22.3  30.3  13.8  18.9  35.4  28.5  25.   28.4   8.8\n",
      "  21.6 100.   24.5  18.2  19.4  15.4  37.9   9.6  20.1  31.6  24.5  17.8\n",
      "  48.3  29.8  17.9  15.2  22.9  16.6  22.2  24.7  43.8  31.1  17.2  15.6\n",
      "  13.4  18.2  34.9  19.6  22.5  50.   18.9  31.7  23.   23.7  37.   19.4\n",
      "  18.7  10.9  42.3  27.1  25.   11.5   9.5  18.3  29.6  12.1  15.2  24.7\n",
      "  16.4  20.5  19.5   9.7  12.6  17.4  37.3  28.1  21.1  18.7  21.4  36.1\n",
      " 100.   29.6  36.4  20.6  21.4  23.7   8.3  23.9  10.9  20.6  20.5  41.3\n",
      "  20.1  10.4  13.5  34.6  18.6  18.4  25.3  11.7  28.7  19.   14.2  28.6\n",
      "  17.8  24.2  19.8  26.5  21.2  29.1  12.5  20.8  22.8  19.6  13.4  22.5\n",
      "  14.5  32.   15.2  21.7  26.4  13.1   7.2  23.1  23.2  37.2  22.6  19.3\n",
      "  21.4  13.3  16.2  27.5  20.3 100.   18.5  25.   19.2  10.2   7.   24.8\n",
      "  13.5  22.9  24.7  23.1  15.7  33.4   5.6  21.6  22.1  23.3  38.7  13.1\n",
      "   5.   15.   22.6  24.6  22.   31.2  20.2  14.9  22.2  21.9  22.8  21.5\n",
      "  12.7  21.7  20.4  20.6  13.6  28.2  23.4  17.3  18.2  23.7  19.7  16.8\n",
      "  20.   13.4  22.5  35.4  20.8  27.5  27.5  24.   21.   19.4 100.   14.\n",
      "  22.8  14.1  21.1  30.1  12.8  19.1  22.6  16.6  19.8  22.2   8.8  14.5\n",
      "  16.1  22.   32.2  31.6  25.   11.7  22.8  24.5  31.   26.2  17.1  23.9\n",
      "  22.6  21.7  32.7  28.7  32.5  16.2  50.   14.1  10.2  13.2  43.1  30.8\n",
      "  21.4  13.8  33.2  26.6  48.8  16.1   6.3  16.7  16.3   7.5  17.4  23.9\n",
      "  24.1  50.   22.   23.8  21.2  20.3  21.   19.6  18.5  17.5  31.5   7.2\n",
      "  19.1  13.3  24.8  33.1  18.8  10.2  13.    8.4  12.7  26.4  15.   23.6\n",
      "  23.   22.4  32.9  24.3  20.3  19.9  46.7  34.9 100.   18.4  22.   36.2\n",
      "  11.9  23.2 100.   10.8  50.   14.3  20.6  24.4  19.3  11.8  24.1  21.2\n",
      "  35.1  16.   36.2  13.9  19.3]\n"
     ]
    }
   ],
   "source": [
    "# Imprime los valores de entrenamiento\n",
    "print(\"Valores de entrenamiento para x (LSTAT):\", x_train)\n",
    "print(\"Valores de entrenamiento para y (MEDV):\", y_train)\n"
   ]
  },
  {
   "cell_type": "markdown",
   "metadata": {},
   "source": [
    "c. Mediante regresión lineal (sin importar cuál de los dos acercamientos que vimos en clase ocupes), calcular los valores óptimos de m y b usando los datos de entrenamiento."
   ]
  },
  {
   "cell_type": "code",
   "execution_count": 53,
   "metadata": {},
   "outputs": [
    {
     "name": "stdout",
     "output_type": "stream",
     "text": [
      "Valor óptimo de m (pendiente): -0.7415707482640422\n",
      "Valor óptimo de b (intercepto): 33.028722258079384\n"
     ]
    }
   ],
   "source": [
    "# Escribir código aquí\n",
    "# Usa la función para calcular m y b\n",
    "m, b = ia.linRegLS(x_train, y_train)\n",
    "\n",
    "# Imprime los valores de m y b\n",
    "print(\"Valor óptimo de m (pendiente):\", m)\n",
    "print(\"Valor óptimo de b (intercepto):\", b)\n"
   ]
  },
  {
   "cell_type": "markdown",
   "metadata": {},
   "source": [
    "d. Realizar la predicción para los datos separados de predicción y obtener el índice de precisión y tu índice de error.\n",
    "\n",
    "Para calcular el error utiliza MSE\n",
    "$$\n",
    "RMSE=\\sqrt{\\frac{1}{n}\\sum(y-\\^{y})^2}\n",
    "$$"
   ]
  },
  {
   "cell_type": "code",
   "execution_count": 57,
   "metadata": {},
   "outputs": [
    {
     "name": "stdout",
     "output_type": "stream",
     "text": [
      "MSE:  38.25646698626578\n",
      "RRMSE:  6.185181241181683\n"
     ]
    }
   ],
   "source": [
    "# Escribir código aquí\n",
    "# Realiza la predicción\n",
    "y_hat = m * x_pred + b\n",
    "\n",
    "# Calcula el error cuadrático medio (MSE)\n",
    "mse = np.mean((y_pred - y_hat)**2)\n",
    "\n",
    "# Calcula la raíz del error cuadrático medio (RMSE)\n",
    "rmse = np.sqrt(mse)\n",
    "\n",
    "# Imprime el MSE y el RMSE\n",
    "print(\"MSE: \", mse)\n",
    "print(\"RRMSE: \", rmse)\n"
   ]
  },
  {
   "cell_type": "markdown",
   "metadata": {},
   "source": [
    "e. Redacta tus conclusiones en un bloque de Markdown. (Respuesta libre)\n",
    "\n",
    "Respuesta:\n",
    "\n",
    "En este examen, se evaluó la capacidad para realizar un análisis de los datos del conjunto de viviendas de Boston utilizando técnicas de regresión lineal. Se seleccionaron LSTAT como variable independiente y MEDV como variable dependiente basándose en su alta correlación observada en la matriz de correlación. \n",
    "\n",
    "Se utilizó la biblioteca ia_misc para dividir los datos en conjuntos de entrenamiento y predicción, y para calcular los valores óptimos de la pendiente m y el intercepto b para el modelo de regresión lineal. Sin embargo, se encontraron algunos problemas al intentar utilizar la función trainPredSeparationLR con un filtro que seleccionara todos los datos. Este problema se resolvió seleccionando una columna y un valor que existiera en todos los registros del DataFrame.\n",
    "\n",
    "Una vez obtenidos los valores óptimos de m y b, se realizaron predicciones para los datos de predicción y se calculó el error cuadrático medio (MSE) y la raíz del error cuadrático medio (RMSE) para evaluar la precisión del modelo.\n",
    "\n",
    "En conclusión, este examen demostró la capacidad para utilizar la regresión lineal para analizar y hacer predicciones a partir de un conjunto de datos. Aunque se encontraron algunos desafíos en el camino, se pudieron resolver y se obtuvieron resultados útiles. Este examen también destacó la importancia de entender y manejar correctamente los datos de entrada al utilizar técnicas de aprendizaje automático.\n",
    "\n"
   ]
  }
 ],
 "metadata": {
  "kernelspec": {
   "display_name": "Python 3",
   "language": "python",
   "name": "python3"
  },
  "language_info": {
   "codemirror_mode": {
    "name": "ipython",
    "version": 3
   },
   "file_extension": ".py",
   "mimetype": "text/x-python",
   "name": "python",
   "nbconvert_exporter": "python",
   "pygments_lexer": "ipython3",
   "version": "3.10.13"
  }
 },
 "nbformat": 4,
 "nbformat_minor": 2
}
